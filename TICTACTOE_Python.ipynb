{
  "cells": [
    {
      "cell_type": "markdown",
      "metadata": {
        "id": "view-in-github",
        "colab_type": "text"
      },
      "source": [
        "<a href=\"https://colab.research.google.com/github/Fatimausmanghuman/TIC-TAC-TOE-USING-PYTHON-AND-MINMAX/blob/main/TICTACTOE_Python.ipynb\" target=\"_parent\"><img src=\"https://colab.research.google.com/assets/colab-badge.svg\" alt=\"Open In Colab\"/></a>"
      ]
    },
    {
      "cell_type": "code",
      "execution_count": null,
      "metadata": {
        "id": "X6OB4jQPHvS8"
      },
      "outputs": [],
      "source": [
        "def ConstBoard(board):                                       #prints the current state of baord\n",
        "  print(\"Current state of Baord: \\n\\n\");\n",
        "  for i in range(0, 9):\n",
        "    if((i>0) and (i%3==0)):\n",
        "      print(\"\\n\");\n",
        "    if(board[i]==0):\n",
        "      print(\"_ \", end=\" \");\n",
        "    if(board[i]==-1):\n",
        "      print(\"X \", end=\" \");\n",
        "    if(board[i]==1):\n",
        "      print(\"O \", end=\" \");\n",
        "  print(\"\\n\\n\");\n",
        "\n",
        "def User1Turn(board):\n",
        "  position = input(\"Enter X's position from [1,2,3,4,...,9]\");\n",
        "  position = int(position);\n",
        "  if(board[position-1]!=0):\n",
        "    print(\"Wrong Move!!!!!\");\n",
        "    exit(0);\n",
        "  board[position-1]=-1;                                                      #-1 is X\n",
        "\n",
        "def User2Turn(board):                                                       #user 2 is created  for multiplayer\n",
        "  position = input(\"Enter O's position from [1,2,3,4,...,9]\");\n",
        "  position = int(position);\n",
        "  if(board[position-1]!=0):\n",
        "    print(\"Wrong Move!!!!!\");\n",
        "    exit(0);\n",
        "  board[position-1]=1;                                                    #1 is O\n",
        "\n",
        "def minmax(board, player):\n",
        "  x = analyzeboard(board);\n",
        "  if(x!=0):\n",
        "   return(x*player);                                                      #recursive func(calls upon itself again n again)\n",
        "  position = -1;\n",
        "  value = -2;\n",
        "  for i in range(0, 9):\n",
        "    if(board[i]==0):\n",
        "      board[i]=player;\n",
        "      score=-minmax(board, player*-1);\n",
        "      board[i] = 0;\n",
        "      if(score>value):\n",
        "        value=score;\n",
        "        position = i;\n",
        "  if(position==-1):\n",
        "    return 0;\n",
        "  return value;\n",
        "\n",
        "def CompTurn(board):                                             #code for computers turn\n",
        "  position = -1;\n",
        "  value = -2;\n",
        "  for i in range(0, 9):\n",
        "    if(board[i]==0):\n",
        "      board[i]=1;\n",
        "      score=-minmax(board, -1);\n",
        "      board[i] = 0;\n",
        "      if(score>value):\n",
        "        value=score;\n",
        "        position = i;\n",
        "  board[position]=1\n",
        "\n",
        "def analyzeboard(board):\n",
        "  cb = [[0, 1, 2], [3, 4, 5], [6, 7, 8], [0, 3, 6], [1, 4, 7], [2, 5, 8], [0, 4, 8], [2, 4, 6]];\n",
        "\n",
        "  for i in range(0, 8):\n",
        "    if(board[cb[i][0]]!=0 and\n",
        "       board[cb[i][0]]==board[cb[i][1]] and\n",
        "       board[cb[i][0]]==board[cb[i][2]]):\n",
        "      return board[cb[i][0]];\n",
        "\n",
        "  return 0;\n",
        "\n",
        "def main():\n",
        "  choice = input(\"Enter 1 for Single player, 2 for Multiplayer:\");\n",
        "  choice = int(choice);                                                       #to convert string into int\n",
        "  board = [0, 0, 0, 0, 0, 0, 0, 0, 0]                                        #list for empty state of board\n",
        "  if(choice==1):\n",
        "    print(\"Computer: O VS. You: X\");\n",
        "    player= input(\"Enter 1 to play first, 2 to play second: \");\n",
        "    player = int(player);\n",
        "    for i in range(0, 9):                                 #i will go form 0 to 8\n",
        "     if(analyzeboard(board)!=0):\n",
        "      break;\n",
        "     if((i+player)%2==0):\n",
        "       CompTurn(board);\n",
        "     else:\n",
        "      ConstBoard(board);                               #constbaord will print the whole board\n",
        "      User1Turn(board);\n",
        "\n",
        "  else:\n",
        "    for i in range(0, 9):                              #i will go form 0 to 8\n",
        "      if(analyzeboard(board)!= 0):                     #function created to check if someone has won, whose chance it is? do your chance(won or draw)\n",
        "        break;\n",
        "      if(i%2==0):\n",
        "        ConstBoard(board);\n",
        "        User1Turn(board);\n",
        "      else:\n",
        "        ConstBoard(board);                            #constbaord will print the whole board\n",
        "        User2Turn(board);\n",
        "\n",
        "  x = analyzeboard(board);\n",
        "  if(x==0):\n",
        "    ConstBoard(board);\n",
        "    print(\"DRAW!!!!!!\");\n",
        "  if(x==-1):\n",
        "    ConstBoard(board);\n",
        "    print(\"Player X wins!!!!! , Player O loses!!!!!\");\n",
        "  if(x==1):\n",
        "    ConstBoard(board);\n",
        "    print(\"Player O wins!!!!!! , Player X loses!!!!!\");"
      ]
    },
    {
      "cell_type": "code",
      "execution_count": null,
      "metadata": {
        "colab": {
          "background_save": true,
          "base_uri": "https://localhost:8080/"
        },
        "id": "5dvFS-x6oCWS",
        "outputId": "13b13737-a057-4ba4-c44d-c901db567cfd"
      },
      "outputs": [
        {
          "name": "stdout",
          "output_type": "stream",
          "text": [
            "Computer: O VS. You: X\n",
            "Current state of Baord: \n",
            "\n",
            "\n",
            "O  _  _  \n",
            "\n",
            "_  _  _  \n",
            "\n",
            "_  _  _  \n",
            "\n",
            "\n"
          ]
        }
      ],
      "source": [
        "main()"
      ]
    }
  ],
  "metadata": {
    "colab": {
      "provenance": [],
      "authorship_tag": "ABX9TyPY6A4Pp5Ab2NvPh2Mjn3ey",
      "include_colab_link": true
    },
    "kernelspec": {
      "display_name": "Python 3",
      "name": "python3"
    },
    "language_info": {
      "name": "python"
    }
  },
  "nbformat": 4,
  "nbformat_minor": 0
}